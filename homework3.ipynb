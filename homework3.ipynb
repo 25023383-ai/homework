{
 "cells": [
  {
   "cell_type": "code",
   "execution_count": 8,
   "id": "062565a5-7662-4821-bd58-5bd190eeedf3",
   "metadata": {},
   "outputs": [
    {
     "name": "stdin",
     "output_type": "stream",
     "text": [
      "x:  1\n",
      "y:  2\n"
     ]
    },
    {
     "name": "stdout",
     "output_type": "stream",
     "text": [
      "2 1\n"
     ]
    }
   ],
   "source": [
    "#W3A2\n",
    "x=int(input('x: '))\n",
    "y=int(input('y: '))\n",
    "y=x^y\n",
    "x=x^y\n",
    "y=y^x\n",
    "print(x,y)"
   ]
  }
 ],
 "metadata": {
  "kernelspec": {
   "display_name": "Python 3 (ipykernel)",
   "language": "python",
   "name": "python3"
  },
  "language_info": {
   "codemirror_mode": {
    "name": "ipython",
    "version": 3
   },
   "file_extension": ".py",
   "mimetype": "text/x-python",
   "name": "python",
   "nbconvert_exporter": "python",
   "pygments_lexer": "ipython3",
   "version": "3.13.5"
  }
 },
 "nbformat": 4,
 "nbformat_minor": 5
}
