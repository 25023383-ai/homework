{
 "cells": [
  {
   "cell_type": "code",
   "execution_count": null,
   "id": "062565a5-7662-4821-bd58-5bd190eeedf3",
   "metadata": {},
   "outputs": [
    {
     "name": "stdout",
     "output_type": "stream",
     "text": [
      "x:  4\n",
      "y:  3\n"
     ]
    },
    {
     "name": "stdout",
     "output_type": "stream",
     "text": [
      "3 4\n"
     ]
    }
   ],
   "source": [
    "#W3A2\n",
    "x=int(input('x: '))\n",
    "y=int(input('y: '))\n",
    "y=x^y\n",
    "x=x^y\n",
    "y=y^x\n",
    "print(x,y)"
   ]
  },
  {
   "cell_type": "code",
   "execution_count": 55,
   "id": "99fb8957-a68b-467f-9f6e-28f4dfc11026",
   "metadata": {},
   "outputs": [
    {
     "name": "stdin",
     "output_type": "stream",
     "text": [
      "Nhap vao mot so la luy thua cua 2:  4\n"
     ]
    },
    {
     "name": "stdout",
     "output_type": "stream",
     "text": [
      "True\n"
     ]
    }
   ],
   "source": [
    "#W3A3\n",
    "x=int(input('Nhap vao mot so la luy thua cua 2: '))\n",
    "if x>0 and (x&(x-1))==0:\n",
    "    print(True)\n",
    "else:\n",
    "    print(False)"
   ]
  },
  {
   "cell_type": "code",
   "execution_count": 43,
   "id": "7d56062f-e9a6-4212-82d8-91a971195e08",
   "metadata": {},
   "outputs": [
    {
     "name": "stdin",
     "output_type": "stream",
     "text": [
      "Nhap vao so chia m:  7.5\n",
      "Nhap vao so bi chia n:  2.3\n"
     ]
    },
    {
     "name": "stdout",
     "output_type": "stream",
     "text": [
      "Ket qua lam tron xuong: 3\n"
     ]
    }
   ],
   "source": [
    "#W3A4\n",
    "import math\n",
    "m=float(input('Nhap vao so chia m: '))\n",
    "n=float(input('Nhap vao so bi chia n: '))\n",
    "H=math.floor(m/n)\n",
    "print('Ket qua lam tron xuong:',H)"
   ]
  },
  {
   "cell_type": "code",
   "execution_count": 44,
   "id": "23d3ae56-cc95-4793-9f6d-5af0101dbec3",
   "metadata": {},
   "outputs": [
    {
     "name": "stdin",
     "output_type": "stream",
     "text": [
      "Nhap vao so chia m:  7.5\n",
      "Nhap vao so bi chia n:  2.3\n"
     ]
    },
    {
     "name": "stdout",
     "output_type": "stream",
     "text": [
      "Ket qua lam tron len:  4\n"
     ]
    },
    {
     "name": "stdout",
     "output_type": "stream",
     "text": [
      "4\n"
     ]
    }
   ],
   "source": [
    "#W3A5\n",
    "import math\n",
    "m=float(input('Nhap vao so chia m: '))\n",
    "n=float(input('Nhap vao so bi chia n: '))\n",
    "H=math.ceil(m/n)\n",
    "print('Ket qua lam tron len: ',H)"
   ]
  },
  {
   "cell_type": "code",
   "execution_count": 19,
   "id": "c6714dbc-1607-4c70-b59f-2a1c605aed45",
   "metadata": {},
   "outputs": [
    {
     "name": "stdout",
     "output_type": "stream",
     "text": [
      "Nhap vao so nguyen duong x:  3\n"
     ]
    },
    {
     "name": "stdout",
     "output_type": "stream",
     "text": [
      "Odd\n"
     ]
    }
   ],
   "source": [
    "#W3A6\n",
    "x=int(input('Nhap vao so nguyen duong x: '))\n",
    "if x%2==0:\n",
    "    print('Even')\n",
    "else:\n",
    "    print('Odd')"
   ]
  },
  {
   "cell_type": "code",
   "execution_count": 23,
   "id": "a38f967b-c090-4e26-bb2b-586fd515e41f",
   "metadata": {},
   "outputs": [
    {
     "name": "stdout",
     "output_type": "stream",
     "text": [
      "Nhap vao so nguyen a:  -7 \n",
      "Nhap vao so nguyen b:  -8\n"
     ]
    },
    {
     "name": "stdout",
     "output_type": "stream",
     "text": [
      "Yes\n"
     ]
    }
   ],
   "source": [
    "#W3A7\n",
    "a=int(input('Nhap vao so nguyen a: '))\n",
    "b=int(input('Nhap vao so nguyen b: '))\n",
    "if a>0 and b>0:\n",
    "    print('No')\n",
    "elif a<0 and b<0:\n",
    "    print('Yes')\n",
    "else:\n",
    "    print('hai so nguyen khong duoc ho tro')"
   ]
  },
  {
   "cell_type": "code",
   "execution_count": 16,
   "id": "6a758084-b6da-4cfd-93a8-09be61a6e5be",
   "metadata": {},
   "outputs": [
    {
     "name": "stdout",
     "output_type": "stream",
     "text": [
      "Nhap vao chuoi ki tu 1:  15156 adscugawuih nn ascxnjahifnzjkxc\n",
      "Nhap vao chuoi ki tu 2:  1 5a4sc512 56a 5d15d1aw5r4fa5C4\n"
     ]
    },
    {
     "name": "stdout",
     "output_type": "stream",
     "text": [
      "True\n"
     ]
    }
   ],
   "source": [
    "#W3A8\n",
    "a=input('Nhap vao chuoi ki tu 1: ')\n",
    "b=input('Nhap vao chuoi ki tu 2: ')\n",
    "if len(a)>len(b):\n",
    "    print(True)\n",
    "elif len(a)<len(b):\n",
    "    print(False)\n",
    "else:\n",
    "    print('2 chuoi ki tu co do dai bang nhau')"
   ]
  },
  {
   "cell_type": "code",
   "execution_count": 13,
   "id": "1aa2deb8-1ddc-4244-909d-c8118220d6b2",
   "metadata": {},
   "outputs": [
    {
     "name": "stdout",
     "output_type": "stream",
     "text": [
      "Nhap vao 3 canh cua tam giac:  4 5 6\n"
     ]
    },
    {
     "name": "stdout",
     "output_type": "stream",
     "text": [
      "Yes\n"
     ]
    }
   ],
   "source": [
    "#W3A9\n",
    "a,b,c=map(float,input('Nhap vao 3 canh cua tam giac: ').split())\n",
    "if a>0 and b>0 and c>0 and a+b>c and b+c>a and a+c>b:\n",
    "    print('Yes')\n",
    "else:\n",
    "    print('No')"
   ]
  },
  {
   "cell_type": "code",
   "execution_count": 1,
   "id": "6289c538-ce88-4d16-a510-7db570d2695f",
   "metadata": {},
   "outputs": [
    {
     "name": "stdout",
     "output_type": "stream",
     "text": [
      "Nhap vao 4 so nguyen:  4 8 6 9\n"
     ]
    },
    {
     "name": "stdout",
     "output_type": "stream",
     "text": [
      "9\n"
     ]
    }
   ],
   "source": [
    "#W3A10\n",
    "a,b,c,d=map(int,input('Nhap vao 4 so nguyen: ').split())\n",
    "L=max(a,b,c,d)\n",
    "print(L)"
   ]
  },
  {
   "cell_type": "code",
   "execution_count": 28,
   "id": "15544647-561d-4f07-a32e-996b33d0eb26",
   "metadata": {},
   "outputs": [
    {
     "name": "stdout",
     "output_type": "stream",
     "text": [
      "Nhap vao 3 canh nguyen duong cua 1 tam giac:  6 8 10\n"
     ]
    },
    {
     "name": "stdout",
     "output_type": "stream",
     "text": [
      "tam giac vuong\n"
     ]
    }
   ],
   "source": [
    "#W3A11\n",
    "import math\n",
    "a,b,c=map(int,input('Nhap vao 3 canh nguyen duong cua 1 tam giac: ').split())\n",
    "if a>0 and b>0 and c>0 and a+b>c and a+c>b and b+c>a:\n",
    "    canh=sorted([a,b,c])\n",
    "    x,y,z=canh\n",
    "    if x==y==z:\n",
    "        print('tam giac deu')\n",
    "    elif x==y or x==z or y==z:\n",
    "        print('tam giac can')\n",
    "    elif x==y and (x**2+y**2)==z**2:\n",
    "        print('tam giac vuong can')\n",
    "    elif (x**2+y**2)==z**2:\n",
    "        print('tam giac vuong')\n",
    "    else:\n",
    "        print('tam giac thuong')\n",
    "else:\n",
    "    print('khong la 3 canh cua 1 tam giac')"
   ]
  },
  {
   "cell_type": "code",
   "execution_count": 3,
   "id": "d5f5438c-b5f5-41a5-b901-2c48eff006ca",
   "metadata": {},
   "outputs": [
    {
     "name": "stdout",
     "output_type": "stream",
     "text": [
      "Nhap vao so nam:  2024\n"
     ]
    },
    {
     "name": "stdout",
     "output_type": "stream",
     "text": [
      "Yes\n"
     ]
    }
   ],
   "source": [
    "#W3A12\n",
    "x=int(input('Nhap vao so nam: '))\n",
    "if x%400==0 or (x%4==0 and x%100!=0):\n",
    "    print('Yes')\n",
    "else:\n",
    "    print('No')"
   ]
  },
  {
   "cell_type": "code",
   "execution_count": 24,
   "id": "fab9f545-86d3-43be-8c6f-2b0ac0a7bfe4",
   "metadata": {},
   "outputs": [
    {
     "name": "stdout",
     "output_type": "stream",
     "text": [
      "Nhap vao he so a:  90\n",
      "Nhap vao he so b:  45\n"
     ]
    },
    {
     "name": "stdout",
     "output_type": "stream",
     "text": [
      "Phuong trinh co nghiem duy nhat x = -0.5\n"
     ]
    }
   ],
   "source": [
    "#W3A14\n",
    "a=float(input('Nhap vao he so a: '))\n",
    "b=float(input('Nhap vao he so b: '))\n",
    "if a!=0:\n",
    "    x=-b/a\n",
    "    print('Phuong trinh co nghiem duy nhat x =',f'{x}')\n",
    "else:\n",
    "    if b==0:\n",
    "        print('Phuong trinh co vo so nghiem')\n",
    "    else:\n",
    "        print('Phuong trinh vo nghiem')"
   ]
  },
  {
   "cell_type": "code",
   "execution_count": 12,
   "id": "0085ceb2-53ca-4b99-92b5-0dc81eb2189d",
   "metadata": {},
   "outputs": [
    {
     "name": "stdout",
     "output_type": "stream",
     "text": [
      "Nhap vao so diem:  8.95\n"
     ]
    },
    {
     "name": "stdout",
     "output_type": "stream",
     "text": [
      "8.95 Gioi\n"
     ]
    }
   ],
   "source": [
    "#W3A15\n",
    "x=float(input('Nhap vao so diem: '))\n",
    "if 0<=x<5.0:\n",
    "    print(x, 'Yeu')\n",
    "elif 5.0<=x<6.5:\n",
    "    print(x, 'TB')\n",
    "elif 6.5<=x<8.0:\n",
    "    print(x, 'Kha')\n",
    "elif 8.0<=x<=10:\n",
    "    print(x, 'Gioi')\n",
    "else:\n",
    "    print('Khong dung dinh dang diem')"
   ]
  },
  {
   "cell_type": "code",
   "execution_count": 36,
   "id": "195046b5-044b-4c1e-8e2f-d176b2b7fcf5",
   "metadata": {},
   "outputs": [
    {
     "name": "stdout",
     "output_type": "stream",
     "text": [
      "Nhap vao 1 so thuc x:  99.568\n"
     ]
    },
    {
     "name": "stdout",
     "output_type": "stream",
     "text": [
      "100 99 100\n"
     ]
    }
   ],
   "source": [
    "#W3A16\n",
    "import math\n",
    "x=float(input('Nhap vao 1 so thuc x: '))\n",
    "U=math.ceil(x)\n",
    "I=math.floor(x)\n",
    "A=math.floor(x+0.5)\n",
    "print(U,I,A)"
   ]
  },
  {
   "cell_type": "code",
   "execution_count": 39,
   "id": "212d4c07-4c57-4fbf-8032-cce84c284c44",
   "metadata": {},
   "outputs": [
    {
     "name": "stdout",
     "output_type": "stream",
     "text": [
      "Nhap vao 4 so thuc bat ki:  4 8 2 16\n"
     ]
    },
    {
     "name": "stdout",
     "output_type": "stream",
     "text": [
      "cong boi q = 2.0\n",
      "True\n"
     ]
    }
   ],
   "source": [
    "#W3A17\n",
    "a,b,c,d=map(float,input('Nhap vao 4 so thuc bat ki: ').split())\n",
    "t=sorted([a,b,c,d])\n",
    "x,y,z,w=t\n",
    "if y%x==0:\n",
    "    q=y/x\n",
    "    print('cong boi q =',f'{q}')\n",
    "    if y*q==z and z*q==w:\n",
    "        print(True)\n",
    "    else:\n",
    "        print(False)\n",
    "else:\n",
    "    print(False)"
   ]
  }
 ],
 "metadata": {
  "kernelspec": {
   "display_name": "Python 3 (ipykernel)",
   "language": "python",
   "name": "python3"
  },
  "language_info": {
   "codemirror_mode": {
    "name": "ipython",
    "version": 3
   },
   "file_extension": ".py",
   "mimetype": "text/x-python",
   "name": "python",
   "nbconvert_exporter": "python",
   "pygments_lexer": "ipython3",
   "version": "3.13.5"
  }
 },
 "nbformat": 4,
 "nbformat_minor": 5
}
