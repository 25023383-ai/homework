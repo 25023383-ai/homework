{
 "cells": [
  {
   "cell_type": "code",
   "execution_count": 30,
   "id": "3ede2f31-eae1-49ee-aa92-407e44b2541e",
   "metadata": {},
   "outputs": [
    {
     "name": "stdout",
     "output_type": "stream",
     "text": [
      "Hello-IS5-cac ban\n",
      "happy birthday\n"
     ]
    }
   ],
   "source": [
    "#W2A1\n",
    "print('Hello', 'IS5', 'cac ban', sep='-', end='\\n')\n",
    "print('happy birthday')"
   ]
  },
  {
   "cell_type": "code",
   "execution_count": 4,
   "id": "8fe983d4-fb5a-4b84-8510-ab208a7b48e4",
   "metadata": {},
   "outputs": [
    {
     "name": "stdout",
     "output_type": "stream",
     "text": [
      " Danisa\n"
     ]
    },
    {
     "name": "stdout",
     "output_type": "stream",
     "text": [
      "Hello Danisa\n"
     ]
    }
   ],
   "source": [
    "#W2A2\n",
    "name=input()\n",
    "print('Hello',name)"
   ]
  },
  {
   "cell_type": "code",
   "execution_count": 52,
   "id": "802d06a3-9ac1-4c3b-9a7c-f1ad8c5af860",
   "metadata": {},
   "outputs": [
    {
     "name": "stdout",
     "output_type": "stream",
     "text": [
      " 1 2\n"
     ]
    },
    {
     "name": "stdout",
     "output_type": "stream",
     "text": [
      " 1 + 2 = 3\n",
      " 1 - 2 = -1\n",
      " 1 * 2 = 2\n",
      " 1 / 2 = 0.50\n"
     ]
    }
   ],
   "source": [
    "#W2A3\n",
    "line = input()\n",
    "a,b = map(int, line.split())\n",
    "print(f' {a} + {b} = {a+b}')\n",
    "print(f' {a} - {b} = {a-b}')\n",
    "print(f' {a} * {b} = {a*b}')\n",
    "print(f' {a} / {b} = {a/b:.2f}')"
   ]
  },
  {
   "cell_type": "code",
   "execution_count": 59,
   "id": "bc4efe7c-be03-4894-9015-75d5788e003e",
   "metadata": {},
   "outputs": [
    {
     "name": "stdout",
     "output_type": "stream",
     "text": [
      " 1 2 3 4 5 6\n"
     ]
    },
    {
     "name": "stdout",
     "output_type": "stream",
     "text": [
      "4.20\n"
     ]
    }
   ],
   "source": [
    "#W2A4\n",
    "line=input()\n",
    "a1,b1,c1,a2,b2,a3=map(float,line.split())\n",
    "TB=((a1+b1+c1)+(a2+b2)*2+a3*3)/10\n",
    "print(f'{TB:.2f}')"
   ]
  },
  {
   "cell_type": "code",
   "execution_count": 61,
   "id": "2784ed29-5dbe-4abb-a2e1-4371229b8890",
   "metadata": {},
   "outputs": [
    {
     "name": "stdout",
     "output_type": "stream",
     "text": [
      " 3 3\n"
     ]
    },
    {
     "data": {
      "text/plain": [
       "27"
      ]
     },
     "execution_count": 61,
     "metadata": {},
     "output_type": "execute_result"
    }
   ],
   "source": [
    "#W2A5\n",
    "line=input()\n",
    "a,b=map(int, line.split())\n",
    "a**b"
   ]
  },
  {
   "cell_type": "code",
   "execution_count": 61,
   "id": "d7476aba-cdd3-4026-a3dc-d433bb30ae20",
   "metadata": {},
   "outputs": [
    {
     "name": "stdout",
     "output_type": "stream",
     "text": [
      " 3 3\n"
     ]
    },
    {
     "data": {
      "text/plain": [
       "27"
      ]
     },
     "execution_count": 61,
     "metadata": {},
     "output_type": "execute_result"
    }
   ],
   "source": [
    "#W2A5\n",
    "line=input()\n",
    "a,b=map(int, line.split())\n",
    "a**b"
   ]
  },
  {
   "cell_type": "code",
   "execution_count": 68,
   "id": "fce0168f-a746-4fde-bdb5-052f019fcfee",
   "metadata": {},
   "outputs": [
    {
     "name": "stdout",
     "output_type": "stream",
     "text": [
      " a\n"
     ]
    },
    {
     "name": "stdout",
     "output_type": "stream",
     "text": [
      "A\n"
     ]
    }
   ],
   "source": [
    "#W2A6\n",
    "text=input()\n",
    "orderCap=ord(text)-32\n",
    "print(chr(orderCap))"
   ]
  },
  {
   "cell_type": "code",
   "execution_count": 69,
   "id": "8834cddd-db81-4ad0-9134-433e9d6b611f",
   "metadata": {},
   "outputs": [
    {
     "data": {
      "text/plain": [
       "(512, 512)"
      ]
     },
     "execution_count": 69,
     "metadata": {},
     "output_type": "execute_result"
    }
   ],
   "source": [
    "#W2A7\n",
    "A = ((13 ** 2) * 3) + 5\n",
    "B = 13**2*3 + 5 #prior to exponentiation\n",
    "A,B"
   ]
  },
  {
   "cell_type": "code",
   "execution_count": 72,
   "id": "a61acc8a-9114-4e95-9dbc-573627d3144a",
   "metadata": {},
   "outputs": [
    {
     "name": "stdout",
     "output_type": "stream",
     "text": [
      " 10\n"
     ]
    },
    {
     "name": "stdout",
     "output_type": "stream",
     "text": [
      "50.00\n"
     ]
    }
   ],
   "source": [
    "#W2A8\n",
    "c=float(input())\n",
    "far=9/5*c+32\n",
    "print(f'{far:.2f}')"
   ]
  },
  {
   "cell_type": "code",
   "execution_count": 73,
   "id": "8565afe9-8023-4183-915f-c6d413876fa7",
   "metadata": {},
   "outputs": [
    {
     "name": "stdout",
     "output_type": "stream",
     "text": [
      " 2\n"
     ]
    },
    {
     "data": {
      "text/plain": [
       "12.8"
      ]
     },
     "execution_count": 73,
     "metadata": {},
     "output_type": "execute_result"
    }
   ],
   "source": [
    "#W2A9\n",
    "x=float(input())\n",
    "1.4*x+10\n",
    "print(f'{x:.2f})"
   ]
  },
  {
   "cell_type": "code",
   "execution_count": 79,
   "id": "cf3dec80-fd65-49e4-a518-a7ecffb20689",
   "metadata": {},
   "outputs": [
    {
     "name": "stdout",
     "output_type": "stream",
     "text": [
      " Tung Son Jack\n"
     ]
    },
    {
     "name": "stdout",
     "output_type": "stream",
     "text": [
      "Hi Jack, Son and Tung\n"
     ]
    }
   ],
   "source": [
    "#W2A10\n",
    "a,b,c=input().split()\n",
    "print('Hi ',c,', ',b,' and ',a, sep='')\n"
   ]
  },
  {
   "cell_type": "code",
   "execution_count": 13,
   "id": "861be7c9-e2a5-46cb-8d6f-d9e78541b244",
   "metadata": {},
   "outputs": [
    {
     "name": "stdout",
     "output_type": "stream",
     "text": [
      " 36 18\n"
     ]
    },
    {
     "name": "stdout",
     "output_type": "stream",
     "text": [
      "130680.0\n"
     ]
    }
   ],
   "source": [
    "#W2A11\n",
    "line=input()\n",
    "a,b=map(float,line.split())\n",
    "second=a*3600+b*60\n",
    "print(f'{second}')"
   ]
  },
  {
   "cell_type": "code",
   "execution_count": 20,
   "id": "23e46237-b4cd-45f4-868c-8916bf974bd2",
   "metadata": {},
   "outputs": [
    {
     "name": "stdout",
     "output_type": "stream",
     "text": [
      " 1.2\n"
     ]
    },
    {
     "name": "stdout",
     "output_type": "stream",
     "text": [
      "8.6\n"
     ]
    }
   ],
   "source": [
    "#W2A12\n",
    "x=float(input())\n",
    "S=6*x**2\n",
    "print(f'{S:.1f}')"
   ]
  },
  {
   "cell_type": "code",
   "execution_count": 81,
   "id": "8d43969c-1a06-4aac-9c82-a5af16db9dfe",
   "metadata": {},
   "outputs": [
    {
     "name": "stdout",
     "output_type": "stream",
     "text": [
      " 2 3\n"
     ]
    },
    {
     "data": {
      "text/plain": [
       "6"
      ]
     },
     "execution_count": 81,
     "metadata": {},
     "output_type": "execute_result"
    }
   ],
   "source": [
    "#W2A13\n",
    "a,b=map(int,input().split())\n",
    "a*b"
   ]
  },
  {
   "cell_type": "code",
   "execution_count": 11,
   "id": "5545852b-3787-4f52-8f76-f3aa83a0cd82",
   "metadata": {},
   "outputs": [
    {
     "name": "stdout",
     "output_type": "stream",
     "text": [
      " 1 2\n"
     ]
    },
    {
     "name": "stdout",
     "output_type": "stream",
     "text": [
      "2 1\n"
     ]
    }
   ],
   "source": [
    "#W2A14 - exchange value\n",
    "a,b=map(int,input().split())\n",
    "print(f'{b} {a}')"
   ]
  },
  {
   "cell_type": "code",
   "execution_count": 20,
   "id": "01bf88a7-c5a1-4241-9e89-9192a348d0e9",
   "metadata": {},
   "outputs": [
    {
     "name": "stdout",
     "output_type": "stream",
     "text": [
      " 6\n"
     ]
    },
    {
     "name": "stdout",
     "output_type": "stream",
     "text": [
      "91\n"
     ]
    }
   ],
   "source": [
    "#W2A15\n",
    "a=int(input())\n",
    "S=3*a*(a-1)+1\n",
    "print(f'{S}')"
   ]
  },
  {
   "cell_type": "code",
   "execution_count": 33,
   "id": "a0e05bdb-88ca-4593-bfbb-4d5219885c1f",
   "metadata": {},
   "outputs": [
    {
     "name": "stdout",
     "output_type": "stream",
     "text": [
      "\n",
      "Spring\n",
      "Summer\n",
      "Fall\n",
      "Winter\n",
      "Spring\n",
      "Summer\n",
      "Fall\n",
      "Winter\n",
      "Spring\n",
      "Summer\n",
      "Fall\n",
      "Winter\n"
     ]
    }
   ],
   "source": [
    "#W2A16 \n",
    "print('''\n",
    "Spring\n",
    "Summer\n",
    "Fall\n",
    "Winter''') #string literal nhiều dòng: cho phép viết chuỗi kéo dài nhiều dòng mà không cần phải dùng ký tự xuống dòng \\n\n",
    "print('Spring\\nSummer\\nFall\\nWinter')\n",
    "print('Spring','Summer','Fall','Winter',sep='\\n')"
   ]
  },
  {
   "cell_type": "code",
   "execution_count": 34,
   "id": "6a31f1dd-f9f8-4406-8ea4-c1a4f5746662",
   "metadata": {},
   "outputs": [
    {
     "name": "stdout",
     "output_type": "stream",
     "text": [
      "  *\n",
      " ***\n",
      "*****\n"
     ]
    }
   ],
   "source": [
    "#W2A17\n",
    "print('  *',' ***','*****',sep='\\n')"
   ]
  },
  {
   "cell_type": "code",
   "execution_count": 7,
   "id": "5a9dd27d-b241-4061-a7fa-2e4fd9ba88c8",
   "metadata": {},
   "outputs": [
    {
     "name": "stdout",
     "output_type": "stream",
     "text": [
      "\n",
      "###   # #     ###  ###  \n",
      " #    #   #    #    #  \n",
      " #    #    #   #    #  \n",
      " #    #   #    #    #  \n",
      " #    # #      #    # \n",
      "\n"
     ]
    }
   ],
   "source": [
    "#W2A18\n",
    "print('''\n",
    "###   # #     ###  ###  \n",
    " #    #   #    #    #  \n",
    " #    #    #   #    #  \n",
    " #    #   #    #    #  \n",
    " #    # #      #    # \n",
    "''')"
   ]
  },
  {
   "cell_type": "code",
   "execution_count": 22,
   "id": "40a84814-682e-4fd3-8a1d-1039f009c377",
   "metadata": {},
   "outputs": [
    {
     "name": "stdout",
     "output_type": "stream",
     "text": [
      "\n",
      "Monday  \n",
      "Tuesday \n",
      "Wednesday \n",
      "Thursday \n",
      "Friday \n",
      "Saturday \n",
      "Sunday\n",
      "\n"
     ]
    }
   ],
   "source": [
    "#W2A19\n",
    "print('''\n",
    "Monday  \n",
    "Tuesday \n",
    "Wednesday \n",
    "Thursday \n",
    "Friday \n",
    "Saturday \n",
    "Sunday\n",
    "''')"
   ]
  },
  {
   "cell_type": "code",
   "execution_count": 23,
   "id": "c75a066b-7e1a-461b-994f-4fed180605dc",
   "metadata": {},
   "outputs": [
    {
     "name": "stdout",
     "output_type": "stream",
     "text": [
      "\n",
      "January \n",
      "February \n",
      "March \n",
      "April \n",
      "May \n",
      "June \n",
      "July \n",
      "August \n",
      "September \n",
      "October \n",
      "November \n",
      "December \n",
      "\n"
     ]
    }
   ],
   "source": [
    "#W2A20\n",
    "print('''\n",
    "January \n",
    "February \n",
    "March \n",
    "April \n",
    "May \n",
    "June \n",
    "July \n",
    "August \n",
    "September \n",
    "October \n",
    "November \n",
    "December \n",
    "''')"
   ]
  },
  {
   "cell_type": "code",
   "execution_count": 32,
   "id": "7599415c-6b80-4f54-81a6-3c010c849655",
   "metadata": {},
   "outputs": [
    {
     "name": "stdout",
     "output_type": "stream",
     "text": [
      "Hello World\n",
      "Hello World\n",
      "Hello World\n",
      "Hello World\n",
      "Hello World\n",
      "Hello World\n",
      "Hello World\n",
      "Hello World\n",
      "Hello World\n",
      "Hello World\n",
      "\n"
     ]
    }
   ],
   "source": [
    "#W2A21 - end\n",
    "a=('Hello World' + '\\n')*10\n",
    "print(a)"
   ]
  },
  {
   "cell_type": "code",
   "execution_count": 1,
   "id": "80e7568b",
   "metadata": {},
   "outputs": [
    {
     "name": "stdout",
     "output_type": "stream",
     "text": [
      "3\n"
     ]
    }
   ],
   "source": [
    "a=int(input())\n",
    "print(a)"
   ]
  }
 ],
 "metadata": {
  "kernelspec": {
   "display_name": ".venv (3.13.7)",
   "language": "python",
   "name": "python3"
  },
  "language_info": {
   "codemirror_mode": {
    "name": "ipython",
    "version": 3
   },
   "file_extension": ".py",
   "mimetype": "text/x-python",
   "name": "python",
   "nbconvert_exporter": "python",
   "pygments_lexer": "ipython3",
   "version": "3.13.7"
  }
 },
 "nbformat": 4,
 "nbformat_minor": 5
}
