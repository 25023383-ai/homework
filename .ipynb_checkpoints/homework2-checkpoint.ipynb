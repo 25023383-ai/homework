{
 "cells": [
  {
   "cell_type": "code",
   "execution_count": 38,
   "id": "2cf61df9-ee52-4d34-9d59-5efbae20f1e0",
   "metadata": {},
   "outputs": [
    {
     "name": "stdin",
     "output_type": "stream",
     "text": [
      "Nhap vao 2 canh cua hinh chu nhat:  4.5 6.7\n"
     ]
    },
    {
     "name": "stdout",
     "output_type": "stream",
     "text": [
      "P = 22.4\n",
      "S = 30.150000000000002\n"
     ]
    }
   ],
   "source": [
    "#1\n",
    "x,y=map(float,input('Nhap vao 2 canh cua hinh chu nhat: ').split())\n",
    "P=(x+y)*2\n",
    "S=(x*y)\n",
    "print('P','=',f'{P}')\n",
    "print('S','=',f'{S}')"
   ]
  },
  {
   "cell_type": "code",
   "execution_count": 37,
   "id": "d37f34de-d863-45e4-afaa-767cd748f707",
   "metadata": {},
   "outputs": [
    {
     "name": "stdin",
     "output_type": "stream",
     "text": [
      "Nhap vao ban kinh duong tron:  4.5\n"
     ]
    },
    {
     "name": "stdout",
     "output_type": "stream",
     "text": [
      "P = 28.274333882308138\n",
      "S = 63.61725123519331\n"
     ]
    }
   ],
   "source": [
    "#2\n",
    "import math\n",
    "r=float(input('Nhap vao ban kinh duong tron: '))\n",
    "P=2*math.pi*r\n",
    "S=math.pi*r**2\n",
    "print('P','=',f'{P}')\n",
    "print('S','=',f'{S}')"
   ]
  },
  {
   "cell_type": "code",
   "execution_count": 47,
   "id": "0c2d7b76-5070-43e9-8b30-76fdfb0af255",
   "metadata": {},
   "outputs": [
    {
     "name": "stdin",
     "output_type": "stream",
     "text": [
      "Nhap vao 3 canh cua hinh tam giac:  6 8 10\n"
     ]
    },
    {
     "name": "stdout",
     "output_type": "stream",
     "text": [
      "tam giac vuong\n",
      "P = 12.0\n",
      "S = 24.0\n"
     ]
    }
   ],
   "source": [
    "#3\n",
    "import math\n",
    "a,b,c=map(float,input('Nhap vao 3 canh cua hinh tam giac: ').split())\n",
    "if a>0 and b>0 and c>0 and a+b>c and a+c>b and b+c>a:\n",
    "    canh=sorted([a,b,c])\n",
    "    x,y,z=canh\n",
    "    if x==y==z:\n",
    "        print('tam giac deu')\n",
    "    elif x==y or x==z or y==z:\n",
    "        print('tam giac can')\n",
    "    elif x==y and (x**2+y**2)==z**2:\n",
    "        print('tam giac vuong can')\n",
    "    elif (x**2+y**2)==z**2:\n",
    "        print('tam giac vuong')\n",
    "    else:\n",
    "        print('tam giac thuong')\n",
    "    P=(x+y+z)/2\n",
    "    S=math.sqrt(P*(P-x)*(P-y)*(P-z))\n",
    "    print('P','=',f'{P}')\n",
    "    print('S','=',f'{S}')\n",
    "else:\n",
    "    print('khong la 3 canh cua 1 tam giac')"
   ]
  },
  {
   "cell_type": "code",
   "execution_count": 28,
   "id": "4d0f4a34-464c-4717-bc4b-cc510c3bc159",
   "metadata": {},
   "outputs": [
    {
     "name": "stdin",
     "output_type": "stream",
     "text": [
      "Nhap vao he so a:  0\n",
      "Nhap vao he so b:  9\n"
     ]
    },
    {
     "name": "stdout",
     "output_type": "stream",
     "text": [
      "Phuong trinh vo nghiem\n"
     ]
    }
   ],
   "source": [
    "#4\n",
    "a=float(input('Nhap vao he so a: '))\n",
    "b=float(input('Nhap vao he so b: '))\n",
    "if a!=0:\n",
    "    x=-b/a\n",
    "    print('Phuong trinh co nghiem duy nhat x =',f'{x}')\n",
    "else:\n",
    "    if b==0:\n",
    "        print('Phuong trinh co vo so nghiem')\n",
    "    else:\n",
    "        print('Phuong trinh vo nghiem')"
   ]
  },
  {
   "cell_type": "code",
   "execution_count": 36,
   "id": "5bcfa694-17c6-414c-86ad-9db3b38d91a4",
   "metadata": {},
   "outputs": [
    {
     "name": "stdin",
     "output_type": "stream",
     "text": [
      "Nhap vao he so a:  1\n",
      "Nhap vao he so b:  4\n",
      "Nhap vao he so c:  4\n"
     ]
    },
    {
     "name": "stdout",
     "output_type": "stream",
     "text": [
      "Phuong trinh co 1 nghiem kep: x = -2.0\n"
     ]
    }
   ],
   "source": [
    "#5\n",
    "import math\n",
    "a=float(input('Nhap vao he so a: '))\n",
    "b=float(input('Nhap vao he so b: '))\n",
    "c=float(input('Nhap vao he so c: '))\n",
    "if a==0:\n",
    "    print('Khong phai phuong trinh bac 2')\n",
    "else:\n",
    "    delta=b**2-4*a*c\n",
    "    if delta<0:\n",
    "        print('Phuong trinh vo nghiem thuc')\n",
    "    elif delta==0:\n",
    "        x=-b/2*a\n",
    "        print('Phuong trinh co 1 nghiem kep: x =',f'{x}')\n",
    "    elif delta>0:\n",
    "        x1=(-b+math.sqrt(delta))/2*a\n",
    "        x2=(-b-math.sqrt(delta))/2*a\n",
    "        print('Phuong trinh co 2 nghiem thuc phan biet: ','x1 =',f'{x1}','','x2 =',f'{x2}')"
   ]
  },
  {
   "cell_type": "code",
   "execution_count": 45,
   "id": "39a8ab2a-d7ae-4078-95dd-483f3a833c37",
   "metadata": {},
   "outputs": [
    {
     "name": "stdin",
     "output_type": "stream",
     "text": [
      "Nhap vao 4 so thuc bat ki:  4 5 6 7\n"
     ]
    },
    {
     "name": "stdout",
     "output_type": "stream",
     "text": [
      "7.0\n"
     ]
    }
   ],
   "source": [
    "#6\n",
    "a,b,c,d=map(float,input('Nhap vao 4 so thuc bat ki: ').split())\n",
    "L=max(a,b,c,d)\n",
    "print(L)"
   ]
  },
  {
   "cell_type": "code",
   "execution_count": 46,
   "id": "1f611de8-ed82-4460-b14f-47afd9de6fee",
   "metadata": {},
   "outputs": [
    {
     "name": "stdin",
     "output_type": "stream",
     "text": [
      "Nhap vao 4 so thuc bat ki:  444 555 666 777\n"
     ]
    },
    {
     "name": "stdout",
     "output_type": "stream",
     "text": [
      "444.0\n"
     ]
    }
   ],
   "source": [
    "#7\n",
    "a,b,c,d=map(float,input('Nhap vao 4 so thuc bat ki: ').split())\n",
    "S=min(a,b,c,d)\n",
    "print(S)"
   ]
  },
  {
   "cell_type": "code",
   "execution_count": 56,
   "id": "d95ae435-8766-40f0-a4af-3f434faf8c5a",
   "metadata": {},
   "outputs": [
    {
     "name": "stdin",
     "output_type": "stream",
     "text": [
      "Nhap vao he so phuong trinh 1:  4 5 6\n",
      "Nhap vao he so phuong trinh 2:  7 8 9\n"
     ]
    },
    {
     "name": "stdout",
     "output_type": "stream",
     "text": [
      "x = -1.0\n",
      "y = 2.0\n"
     ]
    }
   ],
   "source": [
    "#8\n",
    "a1,b1,c1=map(float,input('Nhap vao he so phuong trinh 1: ').split())\n",
    "a2,b2,c2=map(float,input('Nhap vao he so phuong trinh 2: ').split())\n",
    "d=a1*b2-a2*b1\n",
    "if d!=0:\n",
    "    x=(c1*b2-c2*b1)/d\n",
    "    y=(a1*c2-a2*c1)/d\n",
    "    print('x =',f'{x}')\n",
    "    print('y =',f'{y}')\n",
    "else:\n",
    "    if c1*b2-c2*b1==0 and a1*c2-a2*c1==0:\n",
    "        print('He phuong trinh vo so nghiem')\n",
    "    else:\n",
    "        print('He phuong trinh vo nghiem')"
   ]
  },
  {
   "cell_type": "code",
   "execution_count": 70,
   "id": "d0cbd2c4-02f9-484f-b7a0-6e480910d417",
   "metadata": {},
   "outputs": [
    {
     "name": "stdin",
     "output_type": "stream",
     "text": [
      "Nhap so giay:  73598\n"
     ]
    },
    {
     "name": "stdout",
     "output_type": "stream",
     "text": [
      "73598 s = 20 h 26 m 38 s\n"
     ]
    }
   ],
   "source": [
    "#9\n",
    "s=int(input('Nhap so giay: '))\n",
    "h=s//3600\n",
    "m=(s%3600)//60\n",
    "ss=s%60\n",
    "print(f'{s}','s =',f'{h}','h',f'{m}','m',f'{ss}','s')"
   ]
  },
  {
   "cell_type": "code",
   "execution_count": 76,
   "id": "93f93227-44c7-4880-bc6a-2ec75cff8800",
   "metadata": {},
   "outputs": [
    {
     "name": "stdin",
     "output_type": "stream",
     "text": [
      "Nhap vao toa do tam duong tron:  1 2\n",
      "Nhap vao ban kinh duong tron:  2\n",
      "Nhap vao diem co toa do bat ki:  1 0\n"
     ]
    },
    {
     "name": "stdout",
     "output_type": "stream",
     "text": [
      "Diem da cho thuoc duong tron\n"
     ]
    }
   ],
   "source": [
    "#10\n",
    "x,y=map(float,input('Nhap vao toa do tam duong tron: ').split())\n",
    "r=float(input('Nhap vao ban kinh duong tron: '))\n",
    "a,b=map(float,input('Nhap vao diem co toa do bat ki: ').split())\n",
    "if r>0:\n",
    "    if (x-a)**2+(y-b)**2==r**2:\n",
    "        print('Diem da cho thuoc duong tron')\n",
    "    else:\n",
    "        print('Diem da cho khong thuoc duong tron')\n",
    "else:\n",
    "    print('Khong co duong tron')"
   ]
  },
  {
   "cell_type": "code",
   "execution_count": 51,
   "id": "cce45dca-4831-4a00-88c7-76abd6e915df",
   "metadata": {},
   "outputs": [
    {
     "name": "stdin",
     "output_type": "stream",
     "text": [
      "Nhap vao he so:  5.4\n",
      "Nhap vao so mu:  0.5\n"
     ]
    },
    {
     "name": "stdout",
     "output_type": "stream",
     "text": [
      "2.32379000772445\n"
     ]
    }
   ],
   "source": [
    "#11\n",
    "x=float(input('Nhap vao he so: '))\n",
    "y=float(input('Nhap vao so mu: '))\n",
    "T=x**y\n",
    "print(f'{T}')"
   ]
  }
 ],
 "metadata": {
  "kernelspec": {
   "display_name": "Python 3 (ipykernel)",
   "language": "python",
   "name": "python3"
  },
  "language_info": {
   "codemirror_mode": {
    "name": "ipython",
    "version": 3
   },
   "file_extension": ".py",
   "mimetype": "text/x-python",
   "name": "python",
   "nbconvert_exporter": "python",
   "pygments_lexer": "ipython3",
   "version": "3.13.5"
  }
 },
 "nbformat": 4,
 "nbformat_minor": 5
}
