{
 "cells": [
  {
   "cell_type": "code",
   "execution_count": 1,
   "id": "05706f43-7da4-41ce-813c-2ecd106c848a",
   "metadata": {},
   "outputs": [
    {
     "name": "stdin",
     "output_type": "stream",
     "text": [
      " 2\n"
     ]
    },
    {
     "name": "stdout",
     "output_type": "stream",
     "text": [
      "4\n"
     ]
    }
   ],
   "source": [
    "#1\n",
    "x=int(input())\n",
    "M=x*2\n",
    "print(M)"
   ]
  },
  {
   "cell_type": "code",
   "execution_count": 6,
   "id": "efa40490-ebe6-4302-b9b9-32f73312da32",
   "metadata": {},
   "outputs": [
    {
     "name": "stdin",
     "output_type": "stream",
     "text": [
      " 2 3\n"
     ]
    },
    {
     "name": "stdout",
     "output_type": "stream",
     "text": [
      "2.86\n"
     ]
    }
   ],
   "source": [
    "#2\n",
    "a,b=map(int,input().split())\n",
    "S=(a*b)-3.14*((a/2)**2)\n",
    "print(f'{S}')"
   ]
  },
  {
   "cell_type": "code",
   "execution_count": 16,
   "id": "e9a30613-abfa-4ea7-baa0-7ae05dc9b3d5",
   "metadata": {},
   "outputs": [
    {
     "name": "stdin",
     "output_type": "stream",
     "text": [
      " t\n"
     ]
    },
    {
     "name": "stdout",
     "output_type": "stream",
     "text": [
      "T\n"
     ]
    }
   ],
   "source": [
    "#3\n",
    "text=input()\n",
    "if ord(text)>=97:\n",
    "    s=ord(text)-32\n",
    "    print(chr(s))\n",
    "else:\n",
    "    s=ord(text)+32\n",
    "    print(chr(s))"
   ]
  },
  {
   "cell_type": "code",
   "execution_count": 29,
   "id": "50824e4b-c016-4c32-9851-e8c352d1c86d",
   "metadata": {},
   "outputs": [
    {
     "name": "stdin",
     "output_type": "stream",
     "text": [
      " 1\n"
     ]
    },
    {
     "name": "stdout",
     "output_type": "stream",
     "text": [
      "1 khong la ki tu alphabet\n"
     ]
    }
   ],
   "source": [
    "#4\n",
    "s=input()\n",
    "if (65<=ord(s)<=90) or (97<=ord(s)<=122):\n",
    "    print(s, 'la ki tu alphabet')\n",
    "else:\n",
    "    print(s, 'khong la ki tu alphabet')"
   ]
  },
  {
   "cell_type": "code",
   "execution_count": 39,
   "id": "4ef5efdc-848c-4c59-9256-3db4a10b2ba8",
   "metadata": {},
   "outputs": [
    {
     "name": "stdin",
     "output_type": "stream",
     "text": [
      "Nhap vao ki tu alphabet in hoa:  1\n"
     ]
    },
    {
     "name": "stdout",
     "output_type": "stream",
     "text": [
      "co phai la ki tu alphabet dau\n"
     ]
    }
   ],
   "source": [
    "#5\n",
    "text=input('Nhap vao ki tu alphabet in hoa: ')\n",
    "if 66<=ord(text)<=90:\n",
    "    s=ord(text)+31\n",
    "    print(chr(s))\n",
    "elif ord(text)==65:\n",
    "    print('TH dac biet, khong co ki tu alphabet lien truoc')\n",
    "else:\n",
    "    print('co phai la ki tu alphabet dau')"
   ]
  },
  {
   "cell_type": "code",
   "execution_count": 53,
   "id": "a5c1dc71-4261-4320-b18f-d63020751d20",
   "metadata": {},
   "outputs": [
    {
     "name": "stdin",
     "output_type": "stream",
     "text": [
      " 6 7 8\n"
     ]
    },
    {
     "name": "stdout",
     "output_type": "stream",
     "text": [
      "20.33316256758894\n"
     ]
    }
   ],
   "source": [
    "#6\n",
    "a,b,c=map(float,input().split())\n",
    "P=(a+b+c)/2\n",
    "from math import sqrt\n",
    "if a>0 and b>0 and c>0 and a+b>c and a+c>b and b+c>a:\n",
    "    S=sqrt(P*(P-a)*(P-b)*(P-c))\n",
    "    print(S)\n",
    "else:\n",
    "    print('khong phai 3 canh cua tam giac')"
   ]
  },
  {
   "cell_type": "code",
   "execution_count": 62,
   "id": "617acb2d-9eb6-434c-9241-7e7924acda56",
   "metadata": {},
   "outputs": [
    {
     "name": "stdin",
     "output_type": "stream",
     "text": [
      " son tung mtp manh hon j97\n"
     ]
    },
    {
     "name": "stdout",
     "output_type": "stream",
     "text": [
      "u m\n"
     ]
    }
   ],
   "source": [
    "#7\n",
    "line=input()\n",
    "if len(line)>=20:\n",
    "    print(line[5], line[9])\n",
    "else:\n",
    "    print('not long enough')"
   ]
  },
  {
   "cell_type": "code",
   "execution_count": 2,
   "id": "a6f1f48c-46c1-43d1-820a-8c3380e7f7ac",
   "metadata": {},
   "outputs": [
    {
     "name": "stdin",
     "output_type": "stream",
     "text": [
      "họ tên chủ hộ:  t\n",
      "chỉ số điện kế tháng trước:  6572.2\n",
      "chỉ số điện kế tháng này:  6766.4\n"
     ]
    },
    {
     "name": "stdout",
     "output_type": "stream",
     "text": [
      "họ tên chủ hộ:  t\n",
      "tiền điện tháng này:  459967.6799999995\n"
     ]
    }
   ],
   "source": [
    "a=input('họ tên chủ hộ: ')\n",
    "b=float(input('chỉ số điện kế tháng trước: '))\n",
    "c=float(input('chỉ số điện kế tháng này: '))\n",
    "d=c-b\n",
    "if 0<=d<=50:\n",
    "    s=1.08*(d*1984)\n",
    "elif 51<=d<=100:\n",
    "    s=1.08*(d*2050)+(d-50)*1984\n",
    "elif 101<=d<=200:\n",
    "    s=1.08*(50*(1984+2050)+(d-100)*2380)\n",
    "elif 201<=d<=300:\n",
    "    s=1.08*(50*(1984+2050+2380)+(d-200)*2998)\n",
    "elif 301<=d<=400:\n",
    "    s=1.08*(50*(1984+2050+2380+2998)+(d-300)*3350)\n",
    "elif 401<=d:\n",
    "    s=1.08*(50*(1984+2050+2380+2998+300)+(d-400)*3460)\n",
    "print('họ tên chủ hộ: ',a)\n",
    "print('tiền điện tháng này: ',s)   \n"
   ]
  },
  {
   "cell_type": "code",
   "execution_count": 6,
   "id": "ec4f0820-7644-4949-8e30-cee95c36a017",
   "metadata": {},
   "outputs": [
    {
     "name": "stdin",
     "output_type": "stream",
     "text": [
      "Nhap so nguyen:  5\n"
     ]
    },
    {
     "name": "stdout",
     "output_type": "stream",
     "text": [
      "5 la so le\n"
     ]
    }
   ],
   "source": [
    "#BS1\n",
    "a=int(input('Nhap so nguyen: '))\n",
    "if a%2==0:\n",
    "    print(a, 'la so chan')\n",
    "else:\n",
    "    print(a, 'la so le')"
   ]
  },
  {
   "cell_type": "code",
   "execution_count": 8,
   "id": "bcaf3104-36ce-43a8-b72b-f97b843a5e50",
   "metadata": {},
   "outputs": [
    {
     "name": "stdin",
     "output_type": "stream",
     "text": [
      "Nhap so co chu so tan cung la 5:  7\n"
     ]
    },
    {
     "name": "stdout",
     "output_type": "stream",
     "text": [
      "False\n"
     ]
    }
   ],
   "source": [
    "#BS2\n",
    "a=int(input('Nhap so co chu so tan cung la 5: '))\n",
    "s=a-5\n",
    "if s%10==0:\n",
    "    print(True)\n",
    "else:\n",
    "    print(False)"
   ]
  },
  {
   "cell_type": "code",
   "execution_count": 11,
   "id": "16312c05-3e46-4268-8018-2b4ead903b2a",
   "metadata": {},
   "outputs": [
    {
     "name": "stdin",
     "output_type": "stream",
     "text": [
      "Nhap mot so nguyen:  15\n"
     ]
    },
    {
     "name": "stdout",
     "output_type": "stream",
     "text": [
      "True\n"
     ]
    }
   ],
   "source": [
    "#BS3\n",
    "a=int(input('Nhap mot so nguyen: '))\n",
    "if a%3==0 and a%5==0:\n",
    "    print(True)\n",
    "else:\n",
    "    print(False)"
   ]
  },
  {
   "cell_type": "code",
   "execution_count": 3,
   "id": "45ec8554-57cd-48ed-8c53-55e8de734412",
   "metadata": {},
   "outputs": [
    {
     "name": "stdin",
     "output_type": "stream",
     "text": [
      "Nhap ten:  jack\n",
      "Nhap nam sinh:  1997\n"
     ]
    },
    {
     "name": "stdout",
     "output_type": "stream",
     "text": [
      "jack du dieu kien bau cu\n"
     ]
    }
   ],
   "source": [
    "#BS4\n",
    "a=input('Nhap ten: ')\n",
    "b=int(input('Nhap nam sinh: '))\n",
    "if b<=2007:\n",
    "    print(a, 'du dieu kien bau cu')\n",
    "else:\n",
    "    print(a, 'khong du dieu kien bau cu')"
   ]
  },
  {
   "cell_type": "code",
   "execution_count": 30,
   "id": "9fe0206a-b940-4aea-b5da-6be1dc01053a",
   "metadata": {},
   "outputs": [
    {
     "name": "stdin",
     "output_type": "stream",
     "text": [
      "Nhap vao 2 so bat ki:  3.6 1.8\n"
     ]
    },
    {
     "name": "stdout",
     "output_type": "stream",
     "text": [
      "3.6\n"
     ]
    }
   ],
   "source": [
    "#BS5\n",
    "a,b=map(float,input('Nhap vao 2 so bat ki: ').split())\n",
    "if b>a:\n",
    "    print(b)\n",
    "elif b<a:\n",
    "    print(a)\n",
    "else:\n",
    "    print(a, '=', b)\n"
   ]
  },
  {
   "cell_type": "code",
   "execution_count": 34,
   "id": "5a90502e-fa54-4b07-9b93-601326678953",
   "metadata": {},
   "outputs": [
    {
     "name": "stdin",
     "output_type": "stream",
     "text": [
      "Nhap vao 1 ki tu bat ki:  a\n"
     ]
    },
    {
     "name": "stdout",
     "output_type": "stream",
     "text": [
      "a la chu cai thuong\n"
     ]
    }
   ],
   "source": [
    "#BS6\n",
    "x=input('Nhap vao 1 ki tu bat ki: ')\n",
    "if 48<=ord(x)<=57:\n",
    "    print(x, 'la so')\n",
    "elif 65<=ord(x)<=90:\n",
    "    print(x, 'la chu cai in hoa')\n",
    "elif 97<=ord(x)<=122:\n",
    "    print(x, 'la chu cai thuong')\n",
    "else:\n",
    "    print('khong ho tro ki tu nay')"
   ]
  },
  {
   "cell_type": "code",
   "execution_count": 42,
   "id": "0fd1925b-59db-44da-9c3a-faf0a058f27b",
   "metadata": {},
   "outputs": [
    {
     "name": "stdin",
     "output_type": "stream",
     "text": [
      "Nhap diem:  9\n"
     ]
    },
    {
     "name": "stdout",
     "output_type": "stream",
     "text": [
      "Gioi\n"
     ]
    }
   ],
   "source": [
    "#BS7\n",
    "a=float(input('Nhap diem: '))\n",
    "if 0<=a<5:\n",
    "    print('Yeu')\n",
    "elif 5<=a<6.5:\n",
    "    print('Trung binh')\n",
    "elif 6.5<=a<8:\n",
    "    print('Kha')\n",
    "elif 8<=a<=10:\n",
    "    print('Gioi')\n",
    "else:\n",
    "    print('Diem khong dung dinh dang')"
   ]
  },
  {
   "cell_type": "code",
   "execution_count": 44,
   "id": "a594151a-1096-4631-9e97-2fa97a2bb421",
   "metadata": {},
   "outputs": [
    {
     "name": "stdin",
     "output_type": "stream",
     "text": [
      "Nhap nam:  2023\n"
     ]
    },
    {
     "name": "stdout",
     "output_type": "stream",
     "text": [
      "2023 khong phai nam nhuan\n"
     ]
    }
   ],
   "source": [
    "#BS8\n",
    "x=int(input('Nhap nam: '))\n",
    "if x%400==0 or (x%4==0 and x%100!=0):\n",
    "    print(x, 'la nam nhuan')\n",
    "else:\n",
    "    print(x, 'khong phai nam nhuan')"
   ]
  },
  {
   "cell_type": "code",
   "execution_count": 1,
   "id": "a65c6954-4474-43fc-bdde-5a640de17350",
   "metadata": {},
   "outputs": [
    {
     "name": "stdin",
     "output_type": "stream",
     "text": [
      "Nhap so nguyen tu 0 den 9:  9\n"
     ]
    },
    {
     "name": "stdout",
     "output_type": "stream",
     "text": [
      "nine\n"
     ]
    }
   ],
   "source": [
    "#BS9\n",
    "x=int(input('Nhap so nguyen tu 0 den 9: '))\n",
    "match x:\n",
    " case 1:\n",
    "     print('one')\n",
    " case 2:\n",
    "     print('two')\n",
    " case 3:\n",
    "     print('three')\n",
    " case 4:\n",
    "     print('four')\n",
    " case 5:\n",
    "     print('five')\n",
    " case 6:\n",
    "     print('six')\n",
    " case 7:\n",
    "     print('seven')\n",
    " case 8:\n",
    "     print('eight')\n",
    " case 9:\n",
    "     print('nine')"
   ]
  },
  {
   "cell_type": "code",
   "execution_count": 51,
   "id": "ccbd6348-060b-4ad9-ab5d-2e0956987b85",
   "metadata": {},
   "outputs": [
    {
     "name": "stdin",
     "output_type": "stream",
     "text": [
      "Nhap diem thi:  10\n"
     ]
    },
    {
     "name": "stdout",
     "output_type": "stream",
     "text": [
      "Qua mon\n"
     ]
    }
   ],
   "source": [
    "#BS10\n",
    "x=float(input('Nhap diem thi: '))\n",
    "if 0<=x<4:\n",
    "    print('Hoc lai')\n",
    "elif 4<=x<=10:\n",
    "    print('Qua mon')\n",
    "else:\n",
    "    print('Khong dung dinh dang diem')"
   ]
  },
  {
   "cell_type": "code",
   "execution_count": 1,
   "id": "57db2187-1ca2-4adb-936e-cd360dc7a54f",
   "metadata": {},
   "outputs": [
    {
     "name": "stdin",
     "output_type": "stream",
     "text": [
      "Nhap nam sinh:  2009\n"
     ]
    },
    {
     "name": "stdout",
     "output_type": "stream",
     "text": [
      "16 tuoi\n",
      "False\n"
     ]
    }
   ],
   "source": [
    "#BS11\n",
    "y=int(input('Nhap nam sinh: '))\n",
    "d=2025-y\n",
    "if y<=2007:\n",
    "    print(d, 'tuoi')\n",
    "    print(True)\n",
    "else:\n",
    "    print(d, 'tuoi')\n",
    "    print(False)"
   ]
  }
 ],
 "metadata": {
  "kernelspec": {
   "display_name": "Python 3 (ipykernel)",
   "language": "python",
   "name": "python3"
  },
  "language_info": {
   "codemirror_mode": {
    "name": "ipython",
    "version": 3
   },
   "file_extension": ".py",
   "mimetype": "text/x-python",
   "name": "python",
   "nbconvert_exporter": "python",
   "pygments_lexer": "ipython3",
   "version": "3.13.5"
  }
 },
 "nbformat": 4,
 "nbformat_minor": 5
}
